{
 "cells": [
  {
   "cell_type": "markdown",
   "metadata": {},
   "source": [
    "# demonstration of `get_seq_following_seq_from_FASTA.py` script\n",
    "\n",
    "If you'd like an active Jupyter session to run this notebook, launch one by clicking [here](https://mybinder.org/v2/gh/fomightez/clausen_ribonucleotides/master), and then upload this notebook to the session that starts up.  \n",
    "Otherwise, the static version is rendered more nicely via [here](https://nbviewer.jupyter.org/github/fomightez/sequencework/blob/master/Extract_from_FASTA/demo%20get_seq_following_seq_from_FASTA.ipynb).\n",
    "\n",
    "<div class=\"alert alert-block alert-warning\">\n",
    "<p>If you haven't used one of these notebooks before, they're basically web pages in which you can write, edit, and run live code. They're meant to encourage experimentation, so don't feel nervous. Just try running a few cells and see what happens!.</p>\n",
    "\n",
    "<p>\n",
    "    Some tips:\n",
    "    <ul>\n",
    "        <li>Code cells have boxes around them. When you hover over them a <i class=\"fa-step-forward fa\"></i> icon appears.</li>\n",
    "        <li>To run a code cell either click the <i class=\"fa-step-forward fa\"></i> icon, or click on the cell and then hit <b>Shift+Enter</b>. The <b>Shift+Enter</b> combo will also move you to the next cell, so it's a quick way to work through the notebook.</li>\n",
    "        <li>While a cell is running a <b>*</b> appears in the square brackets next to the cell. Once the cell has finished running the asterix will be replaced with a number.</li>\n",
    "        <li>In most cases you'll want to start from the top of notebook and work your way down running each cell in turn. Later cells might depend on the results of earlier ones.</li>\n",
    "        <li>To edit a code cell, just click on it and type stuff. Remember to run the cell once you've finished editing.</li>\n",
    "    </ul>\n",
    "</p>\n",
    "</div>\n",
    "\n",
    "You'll need the current version of the script to run this notebook, and the next cell will get that. (Remember if you want to make things more reproducible when you use the script with your own data, you'll want to edit calls such as this to fetch a specific version of the script. How to do this is touched upon in the comment below [here](https://stackoverflow.com/a/48587645/8508004)."
   ]
  },
  {
   "cell_type": "code",
   "execution_count": 1,
   "metadata": {},
   "outputs": [
    {
     "name": "stdout",
     "output_type": "stream",
     "text": [
      "  % Total    % Received % Xferd  Average Speed   Time    Time     Time  Current\n",
      "                                 Dload  Upload   Total   Spent    Left  Speed\n",
      "100 15611  100 15611    0     0  60274      0 --:--:-- --:--:-- --:--:-- 60507\n"
     ]
    }
   ],
   "source": [
    "!curl -O https://raw.githubusercontent.com/fomightez/sequencework/master/Extract_from_FASTA/get_seq_following_seq_from_FASTA.py"
   ]
  },
  {
   "cell_type": "markdown",
   "metadata": {},
   "source": [
    "## Display Usage / Help Block"
   ]
  },
  {
   "cell_type": "code",
   "execution_count": 2,
   "metadata": {},
   "outputs": [
    {
     "name": "stdout",
     "output_type": "stream",
     "text": [
      "usage: get_seq_following_seq_from_FASTA.py [-h] [-ld]\n",
      "                                                SEQUENCE_FILE RECORD_ID\n",
      "                                                PATTERN NUMBER_TO_GET\n",
      "\n",
      "get_seq_following_seq_from_FASTA.py takes a sequence pattern string, a\n",
      "sequence file (FASTA-format), and a record id and extracts a sequence of\n",
      "specified size following the sequence pattern. Importantly, the regular\n",
      "expression search term syntax is acceptable in the provided sequence pattern,\n",
      "although anything dealing with case will be ignored. (The FASTA-formatted\n",
      "sequence file is assumed by default to be a multi-FASTA, i.e., multiple\n",
      "sequences in the provided file, although it definitely doesn't have to be. In\n",
      "case it is only a single sequence, the record id becomes moot, see below.) A\n",
      "sequence string of the specified length will be returned. Redirect the output\n",
      "to a file if that is what is needed. **** Script by Wayne Decatur (fomightez @\n",
      "github) ***\n",
      "\n",
      "positional arguments:\n",
      "  SEQUENCE_FILE        Name of sequence file to use as input. Must be FASTA\n",
      "                       format. Can be a multi-FASTA file, i.e., multiple\n",
      "                       sequences in FASTA format in one file.\n",
      "  RECORD_ID            Specific identifier of sequence entry in sequence file\n",
      "                       to mine. If the provided sequence file only contains\n",
      "                       one sequence, that sequence will be mined and what is\n",
      "                       provided for this parameter will be ignored. In other\n",
      "                       words, if the sequence file is not a multi-FASTA file,\n",
      "                       you don't need to determine the identifier and can\n",
      "                       instead just enter `blahblah` or any other nonsensical\n",
      "                       string in this spot.\n",
      "  PATTERN              Sequence or sequence pattern to use to locate site\n",
      "                       after which to get the sequence. Regular expressions\n",
      "                       are accepted here; however any information about case\n",
      "                       will be ignored as the provided sequence pattern and\n",
      "                       sequence will both be converted to lower case to check\n",
      "                       for a match.\n",
      "  NUMBER_TO_GET        Number (integer) of residues to retrieve following the\n",
      "                       match to the sequence. The length of this sequence is\n",
      "                       to be given in common terms, where the first item is\n",
      "                       referenced as `1` ,and so a provided argument of `1`\n",
      "                       would a single residue following the match would be\n",
      "                       returned.\n",
      "\n",
      "optional arguments:\n",
      "  -h, --help           show this help message and exit\n",
      "  -ld, --leave_dashes  Add this flag when calling the script in order to be\n",
      "                       able to use gaps (represented as dashes) in the pattern\n",
      "                       required to match. I.E., for matching with an aligned\n",
      "                       FASTA file. (***ATYPICAL.***)\n"
     ]
    }
   ],
   "source": [
    "%run get_seq_following_seq_from_FASTA.py -h"
   ]
  },
  {
   "cell_type": "markdown",
   "metadata": {},
   "source": [
    "To read more about this script beyond that and what is covered below, see [here](https://github.com/fomightez/sequencework/tree/master/Extract_from_FASTA).\n",
    "\n",
    "-----\n",
    "\n",
    "## Basic use examples set #1: Using from the command line (or equivalent / similar)\n",
    "\n",
    "### Preparing for usage example"
   ]
  },
  {
   "cell_type": "code",
   "execution_count": 3,
   "metadata": {},
   "outputs": [],
   "source": [
    "#write example FASTA to file\n",
    "s = '''>evoli\n",
    "atctgatctggggcgaaatgagactgatctgatctggtctgtggcg\n",
    ">smer\n",
    "atctgaatctgagactatatgagactgatctgatctgctctgaagc\n",
    "'''\n",
    "\n",
    "!echo \"{s}\" > sequence.fa"
   ]
  },
  {
   "cell_type": "markdown",
   "metadata": {},
   "source": [
    "### Run the script"
   ]
  },
  {
   "cell_type": "code",
   "execution_count": 4,
   "metadata": {},
   "outputs": [
    {
     "name": "stdout",
     "output_type": "stream",
     "text": [
      "gatctgc\n"
     ]
    }
   ],
   "source": [
    "%%bash\n",
    "python get_seq_following_seq_from_FASTA.py sequence.fa smer tgAtct 7"
   ]
  },
  {
   "cell_type": "markdown",
   "metadata": {},
   "source": [
    "**Note** that cell above illustrates that the comparison is insensitive to case.\n",
    "\n",
    "\n",
    "In the above cell and elsewhere in this notebook, `%%bash` cell magic is used to send this to the shell to run as if on the command line. \n",
    "\n",
    "You could simply run something like `python get_seq_following_seq_from_FASTA.py sequence.fa smer tgAtct 7` if you are working on the command line directly. In fact, the terminal is available from the Jupyter dashboard (or from the JupyterLab launcher) and you can feel free to try running the command below in a terminal in this Jupyter session if you'd like.\n",
    "\n",
    "    python get_seq_following_seq_from_FASTA.py sequence.fa smer tgAtct 7\n"
   ]
  },
  {
   "cell_type": "markdown",
   "metadata": {},
   "source": [
    "Another example of using the script is in the cell below. This time the stderr stream shows some feeback, highlighted in pink."
   ]
  },
  {
   "cell_type": "code",
   "execution_count": 5,
   "metadata": {},
   "outputs": [
    {
     "name": "stdout",
     "output_type": "stream",
     "text": [
      "gaatctgagactatatg\n"
     ]
    },
    {
     "name": "stderr",
     "output_type": "stream",
     "text": [
      "5 matches to the sequence found in the specified sequence. The sequence\n",
      "that follows the match encountered first has been returned."
     ]
    }
   ],
   "source": [
    "%%bash\n",
    "python get_seq_following_seq_from_FASTA.py sequence.fa smer tct 17"
   ]
  },
  {
   "cell_type": "markdown",
   "metadata": {},
   "source": [
    "You may wish to redirect the output sequence text to a file. The next cell demonstrates that, and the one after it shows it worked by displaying the generated file."
   ]
  },
  {
   "cell_type": "code",
   "execution_count": 6,
   "metadata": {},
   "outputs": [
    {
     "name": "stderr",
     "output_type": "stream",
     "text": [
      "5 matches to the sequence found in the specified sequence. The sequence\n",
      "that follows the match encountered first has been returned."
     ]
    }
   ],
   "source": [
    "%%bash\n",
    "python get_seq_following_seq_from_FASTA.py sequence.fa smer tct 17 > redirect_test.fa"
   ]
  },
  {
   "cell_type": "code",
   "execution_count": 7,
   "metadata": {},
   "outputs": [
    {
     "name": "stdout",
     "output_type": "stream",
     "text": [
      "gaatctgagactatatg\n"
     ]
    }
   ],
   "source": [
    "!head redirect_test.fa"
   ]
  },
  {
   "cell_type": "markdown",
   "metadata": {},
   "source": [
    "(The cell above uses another Jupyter notebook/ IPython trick to send a command to the command line. Namely that anything on a line after an exclamation point `!` will be executed on the system command line. However, using that style I saw no advanced display formatting of the stderr when I tried using the exclamation point, e.g., `!python get_seq_following_seq_from_FASTA.py sequence.fa smer tct 7` vs. using the `%%bash` cell magic. Hence, I used `%%bash` in the demo when calling the script.)\n",
    "\n",
    "Note that the redirection operator was used just above in a way that only sent the stdout stream to the file. You can adapt that further as you see fit; more about redirect options can be found [here](https://www.brianstorti.com/understanding-shell-script-idiom-redirect/).\n",
    "\n"
   ]
  },
  {
   "cell_type": "markdown",
   "metadata": {},
   "source": [
    "*Remember you can dispense with providing an actual record id if there is only one record.*"
   ]
  },
  {
   "cell_type": "code",
   "execution_count": 8,
   "metadata": {},
   "outputs": [],
   "source": [
    "#write example FASTA-formatted with one sequence to file\n",
    "s = '''>evoli\n",
    "atctgatctggggcgaaatgagactgatctgatctggtctgtggcg\n",
    "'''\n",
    "\n",
    "!echo \"{s}\" > single_sequence.fa"
   ]
  },
  {
   "cell_type": "markdown",
   "metadata": {},
   "source": [
    "You still have to provide *something* for record identifier, but it can be any string. In the example, below `moot` is used. Completely irrelevant but the 'placeholder' makes the command have all the parts needed."
   ]
  },
  {
   "cell_type": "code",
   "execution_count": 9,
   "metadata": {},
   "outputs": [
    {
     "name": "stdout",
     "output_type": "stream",
     "text": [
      "gatctggggcgaaatga\n"
     ]
    },
    {
     "name": "stderr",
     "output_type": "stream",
     "text": [
      "Single sequence with id of 'evoli' provided in the sequence file.\n",
      "It will be used to search for the provided sequence pattern\n",
      "and provide the 17 residues after it.\n",
      "\n",
      "5 matches to the sequence found in the specified sequence. The sequence\n",
      "that follows the match encountered first has been returned."
     ]
    }
   ],
   "source": [
    "%%bash\n",
    "python get_seq_following_seq_from_FASTA.py single_sequence.fa moot tct 17"
   ]
  },
  {
   "cell_type": "markdown",
   "metadata": {},
   "source": [
    "If you are used to using Jupyter notebooks, you can use `%run` instead of `python get_seq_following_seq_from_FASTA.py sequence.fa smer tct 7` to get the same result."
   ]
  },
  {
   "cell_type": "code",
   "execution_count": 10,
   "metadata": {},
   "outputs": [
    {
     "name": "stdout",
     "output_type": "stream",
     "text": [
      "gaatctg\n"
     ]
    },
    {
     "name": "stderr",
     "output_type": "stream",
     "text": [
      "5 matches to the sequence found in the specified sequence. The sequence\n",
      "that follows the match encountered first has been returned."
     ]
    }
   ],
   "source": [
    "%run get_seq_following_seq_from_FASTA.py sequence.fa smer tct 7"
   ]
  },
  {
   "cell_type": "markdown",
   "metadata": {},
   "source": [
    "However, one cannot simply add use of the shell redirection operator, `>`, to commands using `%%run`. This is because in the Jupyter notebook environment `%run` is not compatible with the redirect operator because it directs things to IPython and not the command line.\n",
    "\n",
    "To do the equivalent, you can add in use of the %%capture cell magic to make the output a python object which you can then direct Python to save the object to a file. The idea being that having the output as a Python object in the notebook namespace gives you more options out-of-the-gate then the ouput immediately going to being stored in a file. The following cells that end this section are meant to illustrate this."
   ]
  },
  {
   "cell_type": "code",
   "execution_count": 11,
   "metadata": {},
   "outputs": [],
   "source": [
    "%%capture cell_output\n",
    "pattern = 'tct'\n",
    "%run get_seq_following_seq_from_FASTA.py sequence.fa smer {pattern} 17"
   ]
  },
  {
   "cell_type": "code",
   "execution_count": 12,
   "metadata": {},
   "outputs": [
    {
     "data": {
      "text/plain": [
       "'gaatctgagactatatg\\n'"
      ]
     },
     "execution_count": 12,
     "metadata": {},
     "output_type": "execute_result"
    }
   ],
   "source": [
    "cell_output.stdout"
   ]
  },
  {
   "cell_type": "code",
   "execution_count": 13,
   "metadata": {},
   "outputs": [
    {
     "data": {
      "text/plain": [
       "'5 matches to the sequence found in the specified sequence. The sequence\\nthat follows the match encountered first has been returned.'"
      ]
     },
     "execution_count": 13,
     "metadata": {},
     "output_type": "execute_result"
    }
   ],
   "source": [
    "cell_output.stderr"
   ]
  },
  {
   "cell_type": "code",
   "execution_count": 14,
   "metadata": {},
   "outputs": [
    {
     "name": "stdout",
     "output_type": "stream",
     "text": [
      "The sequence gagac is found after tct.\n"
     ]
    }
   ],
   "source": [
    "curious_seq ='gagac'\n",
    "if curious_seq in cell_output.stdout:\n",
    "    print (\"The sequence {} is found after {}.\".format(curious_seq,pattern))"
   ]
  },
  {
   "cell_type": "code",
   "execution_count": 15,
   "metadata": {},
   "outputs": [
    {
     "name": "stdout",
     "output_type": "stream",
     "text": [
      "Writing 'cell_output.stdout' (str) to file 'py_out.fa'.\n"
     ]
    }
   ],
   "source": [
    "#save to a file\n",
    "%store cell_output.stdout > py_out.fa"
   ]
  },
  {
   "cell_type": "code",
   "execution_count": 16,
   "metadata": {},
   "outputs": [
    {
     "name": "stdout",
     "output_type": "stream",
     "text": [
      "gaatctgagactatatg\n"
     ]
    }
   ],
   "source": [
    "# demonstrate the file saving worked\n",
    "!head py_out.fa"
   ]
  },
  {
   "cell_type": "markdown",
   "metadata": {},
   "source": [
    "------\n",
    "\n",
    "## Basic use example set #2: Use the main function via import\n",
    "\n",
    "Very useful for when using this in a Jupyter notebook to build into a pipeline or workflow."
   ]
  },
  {
   "cell_type": "markdown",
   "metadata": {},
   "source": [
    "Prepare first by importing the main function from the script into the notbeook environment."
   ]
  },
  {
   "cell_type": "code",
   "execution_count": 17,
   "metadata": {},
   "outputs": [],
   "source": [
    "from get_seq_following_seq_from_FASTA import get_seq_following_seq_from_FASTA"
   ]
  },
  {
   "cell_type": "markdown",
   "metadata": {},
   "source": [
    "(That call will look redundant; however, it actually means `from the file get_seq_following_seq_from_FASTA.py  import the get_seq_following_seq_from_FASTA() function`.)\n",
    "\n",
    "Then call that function and provide the needed arguments in the call. The needed arguments are the `sequence file`, `record id` of the specific sequence to search for the pattern within (can be gibberish if there is only one sequence provided inside sequence file), `sequence pattern to search for`, and `number of residues` to get after the sequence.\n",
    "\n",
    "The function will return the resulting sequence text as a string, and so the function call should be assigned to a variable in order to handle the output of the function subsequently as desired."
   ]
  },
  {
   "cell_type": "code",
   "execution_count": 18,
   "metadata": {},
   "outputs": [
    {
     "name": "stderr",
     "output_type": "stream",
     "text": [
      "Note that the end of the sequence was encountered, and so less than the\n",
      "specified 200 residues were returned."
     ]
    }
   ],
   "source": [
    "following_seq = get_seq_following_seq_from_FASTA(\"sequence.fa\", \"evoli\", \"GATCTGGGGCGA\" , 200)"
   ]
  },
  {
   "cell_type": "code",
   "execution_count": 19,
   "metadata": {},
   "outputs": [
    {
     "name": "stdout",
     "output_type": "stream",
     "text": [
      "aatgagactgatctgatctggtctgtggcg\n"
     ]
    }
   ],
   "source": [
    "print (following_seq)"
   ]
  },
  {
   "cell_type": "markdown",
   "metadata": {},
   "source": [
    "*Remember you can dispense with providing an actual, real record id if there is only one record.*\n",
    "\n",
    "You just need to supply *something* in that spot as a 'placeholder'."
   ]
  },
  {
   "cell_type": "code",
   "execution_count": 20,
   "metadata": {},
   "outputs": [
    {
     "name": "stderr",
     "output_type": "stream",
     "text": [
      "Single sequence with id of 'evoli' provided in the sequence file.\n",
      "It will be used to search for the provided sequence pattern\n",
      "and provide the 200 residues after it.\n",
      "\n",
      "Note that the end of the sequence was encountered, and so less than the\n",
      "specified 200 residues were returned."
     ]
    }
   ],
   "source": [
    "following_seq = get_seq_following_seq_from_FASTA(\"single_sequence.fa\", \"MOOT_AGAIN\", \"GATCTGGGGCGA\" , 200)"
   ]
  },
  {
   "cell_type": "markdown",
   "metadata": {},
   "source": [
    "----\n",
    "\n",
    "## More advanced use examples #1: Use with regular expressions\n",
    "\n",
    "Providing sequence patterns to search for can accomodate regular expression search terms (see [Appendix 2 of Haddock and Dunn's Practical Computing for Biologists](http://practicalcomputing.org/files/PCfB_Appendices.pdf)). However, it can be tricky to input some of the symbols and special characters that regular expression search terms tend to use and get them interpreted exactly as expected. Especially in light of the many ways one can call this script or the associated function in a Jupyter notebook.\n",
    "\n",
    "I illustrate some of the things I found to work here."
   ]
  },
  {
   "cell_type": "code",
   "execution_count": 21,
   "metadata": {},
   "outputs": [
    {
     "name": "stdout",
     "output_type": "stream",
     "text": [
      "tctgaga\n"
     ]
    },
    {
     "name": "stderr",
     "output_type": "stream",
     "text": [
      "2 matches to the sequence found in the specified sequence. The sequence\n",
      "that follows the match encountered first has been returned."
     ]
    }
   ],
   "source": [
    "%run get_seq_following_seq_from_FASTA.py sequence.fa smer a{{2,}} 7"
   ]
  },
  {
   "cell_type": "markdown",
   "metadata": {},
   "source": [
    "That regular expression search term is equivalent to `a{2,}` and searches for two or more matches to `a` in a row (or `A` in row because I make comparison case insensitive beyond input expression). Note that the brackets have to be doubled up to get read in from IPython to ultimately Python as single brackets. (Single brackets got converted to parantheses for some reason.) I worked this out by testing input from command by printing what I had right before search and luckily tried what I had learned from [here](https://stackoverflow.com/a/5466478/8508004) for dealing with brackets and `.format()`.\n",
    "\n"
   ]
  },
  {
   "cell_type": "markdown",
   "metadata": {},
   "source": [
    "#### When using the function call, it seems no special escaping is needed.\n",
    "\n",
    "**This is probably the best route to use regular expressions.**"
   ]
  },
  {
   "cell_type": "code",
   "execution_count": 22,
   "metadata": {},
   "outputs": [
    {
     "name": "stderr",
     "output_type": "stream",
     "text": [
      "2 matches to the sequence found in the specified sequence. The sequence\n",
      "that follows the match encountered first has been returned."
     ]
    },
    {
     "data": {
      "text/plain": [
       "'tctgaga'"
      ]
     },
     "execution_count": 22,
     "metadata": {},
     "output_type": "execute_result"
    }
   ],
   "source": [
    "following_seq = get_seq_following_seq_from_FASTA(\"sequence.fa\", \"smer\", \"a{2,}\" , 7)\n",
    "following_seq"
   ]
  },
  {
   "cell_type": "code",
   "execution_count": 23,
   "metadata": {},
   "outputs": [
    {
     "name": "stderr",
     "output_type": "stream",
     "text": [
      "45 matches to the sequence found in the specified sequence. The sequence\n",
      "that follows the match encountered first has been returned."
     ]
    },
    {
     "data": {
      "text/plain": [
       "'tctgaat'"
      ]
     },
     "execution_count": 23,
     "metadata": {},
     "output_type": "execute_result"
    }
   ],
   "source": [
    "following_seq = get_seq_following_seq_from_FASTA(\"sequence.fa\", \"smer\", \"a*\" , 7)\n",
    "following_seq"
   ]
  },
  {
   "cell_type": "code",
   "execution_count": 24,
   "metadata": {},
   "outputs": [
    {
     "data": {
      "text/plain": [
       "'tctgctctga'"
      ]
     },
     "execution_count": 24,
     "metadata": {},
     "output_type": "execute_result"
    }
   ],
   "source": [
    "#write example with blocks of unknown nucleotides in FASTA to file\n",
    "s = '''>smar\n",
    "atctgatNNNNNNNNNNNNNNNNNNNNNNNtgatctggtctgtggcg\n",
    ">colc\n",
    "atctgaatctgagactatatNNNNNNNNNNNNNNtctgctctgaagc\n",
    "'''\n",
    "\n",
    "!echo \"{s}\" > sequencewn.fa\n",
    "\n",
    "after_unknowns = get_seq_following_seq_from_FASTA(\"sequencewn.fa\", \"colc\", \"N{5,}\" , 10)\n",
    "after_unknowns"
   ]
  },
  {
   "cell_type": "markdown",
   "metadata": {},
   "source": [
    "*Despite that method there being the most direct and easiest way to use them, I can imagine it won't cover all cases, and so I am going to detail my additional findings in this section.*"
   ]
  },
  {
   "cell_type": "markdown",
   "metadata": {},
   "source": [
    "Interestingly, a different approach to escaping the brackets is necessary when using the `%%bash` cell magic."
   ]
  },
  {
   "cell_type": "code",
   "execution_count": 25,
   "metadata": {},
   "outputs": [
    {
     "name": "stdout",
     "output_type": "stream",
     "text": [
      "tctgaga\n"
     ]
    },
    {
     "name": "stderr",
     "output_type": "stream",
     "text": [
      "2 matches to the sequence found in the specified sequence. The sequence\n",
      "that follows the match encountered first has been returned."
     ]
    }
   ],
   "source": [
    "%%bash\n",
    "python get_seq_following_seq_from_FASTA.py sequence.fa smer a\\{2,\\} 7"
   ]
  },
  {
   "cell_type": "markdown",
   "metadata": {},
   "source": [
    "Yet, if you add in quotes you can get away without escaping the brackets."
   ]
  },
  {
   "cell_type": "code",
   "execution_count": 26,
   "metadata": {},
   "outputs": [
    {
     "name": "stdout",
     "output_type": "stream",
     "text": [
      "tctgaga\n"
     ]
    },
    {
     "name": "stderr",
     "output_type": "stream",
     "text": [
      "2 matches to the sequence found in the specified sequence. The sequence\n",
      "that follows the match encountered first has been returned."
     ]
    }
   ],
   "source": [
    "%%bash\n",
    "python get_seq_following_seq_from_FASTA.py sequence.fa smer \"a{2,}\" 7"
   ]
  },
  {
   "cell_type": "markdown",
   "metadata": {},
   "source": [
    "The cell below shows it works when using the exclamation mark way to send commands to shell, too."
   ]
  },
  {
   "cell_type": "code",
   "execution_count": 27,
   "metadata": {},
   "outputs": [
    {
     "name": "stdout",
     "output_type": "stream",
     "text": [
      "2 matches to the sequence found in the specified sequence. The sequence\n",
      "that follows the match encountered first has been returned.tctgaga\n"
     ]
    }
   ],
   "source": [
    "!python get_seq_following_seq_from_FASTA.py sequence.fa smer a{{2,}} 7"
   ]
  },
  {
   "cell_type": "code",
   "execution_count": 28,
   "metadata": {},
   "outputs": [
    {
     "data": {
      "text/plain": [
       "['2 matches to the sequence found in the specified sequence. The sequence',\n",
       " 'that follows the match encountered first has been returned.tctgaga']"
      ]
     },
     "execution_count": 28,
     "metadata": {},
     "output_type": "execute_result"
    }
   ],
   "source": [
    "a = !python get_seq_following_seq_from_FASTA.py sequence.fa smer a\\{2,\\} 7\n",
    "a"
   ]
  },
  {
   "cell_type": "markdown",
   "metadata": {},
   "source": [
    "Except double-brackets method **fails** if want to assign output to a variable using exclamation point approach."
   ]
  },
  {
   "cell_type": "code",
   "execution_count": 29,
   "metadata": {},
   "outputs": [
    {
     "data": {
      "text/plain": [
       "['usage: get_seq_following_seq_from_FASTA.py [-h] [-ld]',\n",
       " '                                                SEQUENCE_FILE RECORD_ID',\n",
       " '                                                PATTERN NUMBER_TO_GET',\n",
       " \"get_seq_following_seq_from_FASTA.py: error: argument NUMBER_TO_GET: invalid int value: 'a'\"]"
      ]
     },
     "execution_count": 29,
     "metadata": {},
     "output_type": "execute_result"
    }
   ],
   "source": [
    "a = !python get_seq_following_seq_from_FASTA.py sequence.fa smer a{{2,}} 7\n",
    "a"
   ]
  },
  {
   "cell_type": "markdown",
   "metadata": {},
   "source": [
    "In other words, `a = !python get_seq_following_seq_from_FASTA.py sequence.fa smer a{{2,}} 7` failed to give expected result even though it assigned something to variable."
   ]
  },
  {
   "cell_type": "markdown",
   "metadata": {},
   "source": [
    "Adding quotes around pattern fixes it."
   ]
  },
  {
   "cell_type": "code",
   "execution_count": 30,
   "metadata": {},
   "outputs": [
    {
     "data": {
      "text/plain": [
       "['2 matches to the sequence found in the specified sequence. The sequence',\n",
       " 'that follows the match encountered first has been returned.tctgaga']"
      ]
     },
     "execution_count": 30,
     "metadata": {},
     "output_type": "execute_result"
    }
   ],
   "source": [
    "a = !python get_seq_following_seq_from_FASTA.py sequence.fa smer \"a{{2,}}\" 7\n",
    "a"
   ]
  },
  {
   "cell_type": "markdown",
   "metadata": {},
   "source": [
    "Since `%run` approach works though, I can use that to assign to variables within a Jupyter notebook if needed."
   ]
  },
  {
   "cell_type": "code",
   "execution_count": 31,
   "metadata": {},
   "outputs": [],
   "source": [
    "%%capture cell_output\n",
    "%run get_seq_following_seq_from_FASTA.py sequence.fa smer a{{2,}} 7"
   ]
  },
  {
   "cell_type": "code",
   "execution_count": 32,
   "metadata": {},
   "outputs": [
    {
     "data": {
      "text/plain": [
       "'tctgaga\\n'"
      ]
     },
     "execution_count": 32,
     "metadata": {},
     "output_type": "execute_result"
    }
   ],
   "source": [
    "cell_output.stdout"
   ]
  },
  {
   "cell_type": "markdown",
   "metadata": {},
   "source": [
    "As below shows, other complex regular expression search terms work if quotes are used. In fact, it seems one above works both with and without quotes around the pattern."
   ]
  },
  {
   "cell_type": "code",
   "execution_count": 33,
   "metadata": {},
   "outputs": [
    {
     "name": "stdout",
     "output_type": "stream",
     "text": [
      "gaatctg\n"
     ]
    },
    {
     "name": "stderr",
     "output_type": "stream",
     "text": [
      "11 matches to the sequence found in the specified sequence. The sequence\n",
      "that follows the match encountered first has been returned."
     ]
    }
   ],
   "source": [
    "%run get_seq_following_seq_from_FASTA.py sequence.fa smer \"....\" 7"
   ]
  },
  {
   "cell_type": "code",
   "execution_count": 34,
   "metadata": {},
   "outputs": [
    {
     "name": "stdout",
     "output_type": "stream",
     "text": [
      "tctgaga\n"
     ]
    },
    {
     "name": "stderr",
     "output_type": "stream",
     "text": [
      "2 matches to the sequence found in the specified sequence. The sequence\n",
      "that follows the match encountered first has been returned."
     ]
    }
   ],
   "source": [
    "%run get_seq_following_seq_from_FASTA.py sequence.fa smer \"a{{2,}}\" 7"
   ]
  },
  {
   "cell_type": "markdown",
   "metadata": {},
   "source": [
    "That last one was used at the start of this section without quotes."
   ]
  },
  {
   "cell_type": "markdown",
   "metadata": {},
   "source": [
    "Use of an asterisk in the regular expression search term with the `%run` approach seems to be allowed if handled like in the `%%bash` approach."
   ]
  },
  {
   "cell_type": "code",
   "execution_count": 35,
   "metadata": {},
   "outputs": [
    {
     "name": "stdout",
     "output_type": "stream",
     "text": [
      "tctgaat\n"
     ]
    },
    {
     "name": "stderr",
     "output_type": "stream",
     "text": [
      "45 matches to the sequence found in the specified sequence. The sequence\n",
      "that follows the match encountered first has been returned."
     ]
    }
   ],
   "source": [
    "%run get_seq_following_seq_from_FASTA.py sequence.fa smer \\a\\* 7"
   ]
  },
  {
   "cell_type": "code",
   "execution_count": 36,
   "metadata": {},
   "outputs": [
    {
     "name": "stdout",
     "output_type": "stream",
     "text": [
      "tctgaat\n"
     ]
    },
    {
     "name": "stderr",
     "output_type": "stream",
     "text": [
      "45 matches to the sequence found in the specified sequence. The sequence\n",
      "that follows the match encountered first has been returned."
     ]
    }
   ],
   "source": [
    "%%bash\n",
    "python get_seq_following_seq_from_FASTA.py sequence.fa smer \\a\\* 7"
   ]
  },
  {
   "cell_type": "markdown",
   "metadata": {},
   "source": [
    "----\n",
    "\n",
    "## More advanced use examples #2: Dealing with gaps\n",
    "\n",
    "The default behaviour of the script is to remove gaps represented by dashes from any sequence pattern provided. The idea is that many use cases will involve searhcing for sequence patterns that have gaps because the sequence text was copied from a sequence alignment, and it seems like a waste of processing to have the user clean the sequences ahead of time. Plus, most people will be searching sequences that don't have gaps.\n",
    "\n",
    "However, with the addition of the `--leave_dashes` option in the command line tool or setting the `filter_dashes` variable to `False` when calling the main function, the user can ovveride this typical behavior and still use the script. For example, with an aligned FASTA file format. The caveat is that number of residues to get will then be counting the gaps / dashes too.\n",
    "\n",
    "*First, show it goes from working to failing when that setting added in current example data.*"
   ]
  },
  {
   "cell_type": "code",
   "execution_count": 37,
   "metadata": {},
   "outputs": [
    {
     "name": "stdout",
     "output_type": "stream",
     "text": [
      "aatgagactgatctgatctggtctgtggcg\n"
     ]
    },
    {
     "name": "stderr",
     "output_type": "stream",
     "text": [
      "Note that the end of the sequence was encountered, and so less than the\n",
      "specified 200 residues were returned."
     ]
    }
   ],
   "source": [
    "%run get_seq_following_seq_from_FASTA.py sequence.fa evoli GATCTGGG------GCGA 200"
   ]
  },
  {
   "cell_type": "code",
   "execution_count": 38,
   "metadata": {},
   "outputs": [
    {
     "name": "stdout",
     "output_type": "stream",
     "text": [
      "aatgagactgatctgatctggtctgtggcg\n"
     ]
    },
    {
     "name": "stderr",
     "output_type": "stream",
     "text": [
      "Note that the end of the sequence was encountered, and so less than the\n",
      "specified 200 residues were returned."
     ]
    }
   ],
   "source": [
    "%run get_seq_following_seq_from_FASTA.py sequence.fa evoli \"GATCTGGG------GCGA\" 200"
   ]
  },
  {
   "cell_type": "code",
   "execution_count": 39,
   "metadata": {},
   "outputs": [
    {
     "name": "stdout",
     "output_type": "stream",
     "text": [
      "\n"
     ]
    },
    {
     "name": "stderr",
     "output_type": "stream",
     "text": [
      "***NO MATCHES FOUND. RETURNING EMPTY STRING.*****    **** ERROR???**"
     ]
    }
   ],
   "source": [
    "%run get_seq_following_seq_from_FASTA.py sequence.fa evoli GATCTGGG------GCGA 200 --leave_dashes"
   ]
  },
  {
   "cell_type": "code",
   "execution_count": 40,
   "metadata": {},
   "outputs": [
    {
     "name": "stderr",
     "output_type": "stream",
     "text": [
      "Note that the end of the sequence was encountered, and so less than the\n",
      "specified 200 residues were returned."
     ]
    },
    {
     "data": {
      "text/plain": [
       "'aatgagactgatctgatctggtctgtggcg'"
      ]
     },
     "execution_count": 40,
     "metadata": {},
     "output_type": "execute_result"
    }
   ],
   "source": [
    "following_seq = get_seq_following_seq_from_FASTA(\"sequence.fa\", \"evoli\", \"GATCTGGG------GCGA\", 200)\n",
    "following_seq"
   ]
  },
  {
   "cell_type": "code",
   "execution_count": 41,
   "metadata": {},
   "outputs": [
    {
     "name": "stderr",
     "output_type": "stream",
     "text": [
      "***NO MATCHES FOUND. RETURNING EMPTY STRING.*****    **** ERROR???**"
     ]
    },
    {
     "data": {
      "text/plain": [
       "''"
      ]
     },
     "execution_count": 41,
     "metadata": {},
     "output_type": "execute_result"
    }
   ],
   "source": [
    "following_seq = get_seq_following_seq_from_FASTA(\"sequence.fa\", \"evoli\", \"GATCTGGG------GCGA\", 200, filter_dashes=False)\n",
    "following_seq"
   ]
  },
  {
   "cell_type": "markdown",
   "metadata": {},
   "source": [
    "*To demonstrate the setting works.*"
   ]
  },
  {
   "cell_type": "code",
   "execution_count": 42,
   "metadata": {},
   "outputs": [
    {
     "data": {
      "text/plain": [
       "'agactgatct'"
      ]
     },
     "execution_count": 42,
     "metadata": {},
     "output_type": "execute_result"
    }
   ],
   "source": [
    "#write example aligned FASTA file format\n",
    "s = '''>evoli\n",
    "atct--gatctgggggatctggg------gcgactgatctgatctggtctgtggcggcaagcgaaaaacaaa\n",
    ">smer\n",
    "atct--gaatcg----atctggg------gcgaagactgatctgatctgctctgaagc--gcgaaaaaaaaa\n",
    "'''\n",
    "\n",
    "!echo \"{s}\" > gapped_sequence.fa\n",
    "\n",
    "after_gaps_and_GCGA = get_seq_following_seq_from_FASTA(\"gapped_sequence.fa\", \"smer\", \"-{5,}GCGA\", 10, filter_dashes=False)\n",
    "after_gaps_and_GCGA"
   ]
  },
  {
   "cell_type": "code",
   "execution_count": 43,
   "metadata": {},
   "outputs": [
    {
     "name": "stdout",
     "output_type": "stream",
     "text": [
      "agactgatct\n"
     ]
    }
   ],
   "source": [
    "%run get_seq_following_seq_from_FASTA.py gapped_sequence.fa smer \"\\-\\-\\-GCGA\" 10 --leave_dashes"
   ]
  },
  {
   "cell_type": "code",
   "execution_count": 44,
   "metadata": {},
   "outputs": [
    {
     "name": "stdout",
     "output_type": "stream",
     "text": [
      "agactgatct\n"
     ]
    }
   ],
   "source": [
    "%run get_seq_following_seq_from_FASTA.py gapped_sequence.fa smer \"\\-{{5,}}GCGA\" 10 --leave_dashes"
   ]
  },
  {
   "cell_type": "markdown",
   "metadata": {},
   "source": [
    "When using on the command line, the dashes need to be escaped with a backslash. The next two cells demonstrate that."
   ]
  },
  {
   "cell_type": "code",
   "execution_count": 45,
   "metadata": {},
   "outputs": [
    {
     "name": "stderr",
     "output_type": "stream",
     "text": [
      "usage: get_seq_following_seq_from_FASTA.py [-h] [-ld]\n",
      "                                                SEQUENCE_FILE RECORD_ID\n",
      "                                                PATTERN NUMBER_TO_GET\n",
      "get_seq_following_seq_from_FASTA.py: error: the following arguments are required: NUMBER_TO_GET\n"
     ]
    }
   ],
   "source": [
    "%%bash\n",
    "python get_seq_following_seq_from_FASTA.py gapped_sequence.fa smer \"---GCGA\" 10 --leave_dashes"
   ]
  },
  {
   "cell_type": "code",
   "execution_count": 46,
   "metadata": {},
   "outputs": [
    {
     "name": "stdout",
     "output_type": "stream",
     "text": [
      "agactgatct\n"
     ]
    }
   ],
   "source": [
    "%%bash\n",
    "python get_seq_following_seq_from_FASTA.py gapped_sequence.fa smer \"\\-\\-\\-GCGA\" 10 --leave_dashes"
   ]
  },
  {
   "cell_type": "code",
   "execution_count": 47,
   "metadata": {},
   "outputs": [
    {
     "name": "stdout",
     "output_type": "stream",
     "text": [
      "agactgatct\n"
     ]
    }
   ],
   "source": [
    "%%bash\n",
    "python get_seq_following_seq_from_FASTA.py gapped_sequence.fa smer \"\\-{5,}GCGA\" 10 --leave_dashes"
   ]
  },
  {
   "cell_type": "code",
   "execution_count": 48,
   "metadata": {},
   "outputs": [
    {
     "name": "stdout",
     "output_type": "stream",
     "text": [
      "agactgatct\n"
     ]
    }
   ],
   "source": [
    "%%bash\n",
    "python get_seq_following_seq_from_FASTA.py gapped_sequence.fa smer \"\\-{5,}GCGA\" 10 --leave_dashes"
   ]
  },
  {
   "cell_type": "markdown",
   "metadata": {},
   "source": [
    "Thus, as with regular expression search terms in general, the wisest choice is probably using `get_seq_following_seq_from_FASTA()` function when dealing with a complex search pattern."
   ]
  },
  {
   "cell_type": "code",
   "execution_count": 49,
   "metadata": {},
   "outputs": [
    {
     "data": {
      "text/plain": [
       "'agactgatct'"
      ]
     },
     "execution_count": 49,
     "metadata": {},
     "output_type": "execute_result"
    }
   ],
   "source": [
    "following_seq = get_seq_following_seq_from_FASTA(\"gapped_sequence.fa\", \"smer\", \"-{5,}GCGA\", 10, filter_dashes=False)\n",
    "following_seq"
   ]
  },
  {
   "cell_type": "code",
   "execution_count": 50,
   "metadata": {},
   "outputs": [
    {
     "name": "stderr",
     "output_type": "stream",
     "text": [
      "2 matches to the sequence found in the specified sequence. The sequence\n",
      "that follows the match encountered first has been returned."
     ]
    },
    {
     "data": {
      "text/plain": [
       "'agactgatct'"
      ]
     },
     "execution_count": 50,
     "metadata": {},
     "output_type": "execute_result"
    }
   ],
   "source": [
    "following_seq = get_seq_following_seq_from_FASTA(\"gapped_sequence.fa\", \"smer\", \"--GCGA\", 10, filter_dashes=False)\n",
    "following_seq"
   ]
  },
  {
   "cell_type": "markdown",
   "metadata": {},
   "source": [
    "Two matches for above, but only processes after first."
   ]
  },
  {
   "cell_type": "code",
   "execution_count": 51,
   "metadata": {},
   "outputs": [
    {
     "data": {
      "text/plain": [
       "'agactgatct'"
      ]
     },
     "execution_count": 51,
     "metadata": {},
     "output_type": "execute_result"
    }
   ],
   "source": [
    "following_seq = get_seq_following_seq_from_FASTA(\"gapped_sequence.fa\", \"smer\", \"---GCGA\", 10, filter_dashes=False)\n",
    "following_seq"
   ]
  },
  {
   "cell_type": "code",
   "execution_count": 52,
   "metadata": {},
   "outputs": [
    {
     "name": "stderr",
     "output_type": "stream",
     "text": [
      "2 matches to the sequence found in the specified sequence. The sequence\n",
      "that follows the match encountered first has been returned."
     ]
    },
    {
     "data": {
      "text/plain": [
       "'agactgatct'"
      ]
     },
     "execution_count": 52,
     "metadata": {},
     "output_type": "execute_result"
    }
   ],
   "source": [
    "following_seq = get_seq_following_seq_from_FASTA(\"gapped_sequence.fa\", \"smer\", \"-{2,}GCGA\", 10, filter_dashes=False)\n",
    "following_seq"
   ]
  },
  {
   "cell_type": "markdown",
   "metadata": {},
   "source": [
    "\n",
    "----\n",
    "\n",
    "Enjoy!\n",
    "\n",
    "Upload your own sequence files to any running Jupyter session and adapt the commands in this notebook to search wihin them. Edit the notebook or copy the necessary cells to make the script work with your own data.\n",
    "\n",
    "----\n",
    "### ADVANCED DEVELOPMENT NOTE\n",
    "\n",
    "If editing the script (***ATYPICAL***) and using import of the main function to test changes here in this Jupyter notebook, you'll need to run the following code in order to specifically trigger import of the updated version of the code for the function subsequent to any edit. Otherwise, without a restart of the kernel, the notebook environment will see any call to import the function and essentially ignore it as it considers that function already imported into the notebook environment."
   ]
  },
  {
   "cell_type": "code",
   "execution_count": 53,
   "metadata": {},
   "outputs": [],
   "source": [
    "# Run this to have new code reflected in the version of the function in memory within the notebook namespace\n",
    "import importlib\n",
    "import get_seq_following_seq_from_FASTA; importlib.reload( get_seq_following_seq_from_FASTA ); from get_seq_following_seq_from_FASTA import get_seq_following_seq_from_FASTA\n",
    "# above line from https://stackoverflow.com/a/11724154/8508004"
   ]
  },
  {
   "cell_type": "markdown",
   "metadata": {},
   "source": [
    "----\n"
   ]
  }
 ],
 "metadata": {
  "kernelspec": {
   "display_name": "Python 3",
   "language": "python",
   "name": "python3"
  },
  "language_info": {
   "codemirror_mode": {
    "name": "ipython",
    "version": 3
   },
   "file_extension": ".py",
   "mimetype": "text/x-python",
   "name": "python",
   "nbconvert_exporter": "python",
   "pygments_lexer": "ipython3",
   "version": "3.6.6"
  }
 },
 "nbformat": 4,
 "nbformat_minor": 2
}
